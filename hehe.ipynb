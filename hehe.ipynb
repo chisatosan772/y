{
 "nbformat": 4,
 "nbformat_minor": 0,
 "metadata": {
  "colab": {
   "name": "m3u8 downloader to Pixeldrain.ipynb",
   "provenance": [],
   "include_colab_link": true
  },
  "kernelspec": {
   "name": "python3",
   "display_name": "Python 3"
  },
  "language_info": {
   "name": "python"
  }
 },
 "cells": [
  {
   "cell_type": "markdown",
   "metadata": {
    "id": "view-in-github",
    "colab_type": "text"
   },
   "source": [
    "<a href=\"https://colab.research.google.com/github/jakiyaa/m3u8-downloader/blob/main/m3u8_downloader.ipynb\" target=\"_parent\"><img src=\"https://colab.research.google.com/assets/colab-badge.svg\" alt=\"Open In Colab\"/></a>"
   ]
  },
  {
   "cell_type": "markdown",
   "metadata": {
    "id": "MoLddhWRxwdv"
   },
   "source": [
    "<a href=\"https://github.com/jakiyaa/m3u8-downloader\">\n",
    "<img src=\"https://github.com/fluidicon.png\" height=100px, align=\"left\"></a>\n",
    "\n",
    "\n",
    "\n",
    "<center><h1><b>M3u8 online Downloader to Pixeldrain</h1></b></center>"
   ]
  },
  {
   "cell_type": "code",
   "metadata": {
    "cellView": "form",
    "id": "H0qP3yiDrMD8"
   },
   "source": [
    "#@title ← Run <center> </font> <font color='red'> Paste m3u8 link <img src='https://play-lh.googleusercontent.com/vi_F_8raK3dL9D32R1VJRmWv18VKvc3niKDOE5z6yQsHOyzH0FQ1vq91eeakoEIFuxH9' height=\"40\" /> </center> { display-mode: \"form\" }\n",
    "M3u8_link = \"\"  #@param {type:\"string\"}\n",
    "Download_location = \"/content/myvideo.mp4\"  #@param {type:\"string\"}\n",
    "\n",
    "# Install ffmpeg and m3u8downloader\n",
    "!sudo apt install -y ffmpeg\n",
    "!pip install --user m3u8downloader\n",
    "\n",
    "# Download video from m3u8 URL\n",
    "!~/.local/bin/downloadm3u8 -o \"$Download_location\" \"$M3u8_link\"\n"
   ]
  },
  {
   "cell_type": "code",
   "metadata": {
    "id": "upload_pixeldrain"
   },
   "source": [
    "# Upload the downloaded file to Pixeldrain\n",
    "PIXELDRAIN_API_KEY = \"d1ee2858-6c4d-4d05-a0aa-bfc3eba425cc\"  # Replace with your Pixeldrain API key\n",
    "!curl -T \"$Download_location\" -u :$PIXELDRAIN_API_KEY https://pixeldrain.com/api/file/\n"
   ]
  }
 ]
}
